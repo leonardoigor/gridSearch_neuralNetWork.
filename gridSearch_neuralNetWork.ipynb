{
  "nbformat": 4,
  "nbformat_minor": 0,
  "metadata": {
    "colab": {
      "name": "gridSearch_neuralNetWork.ipynb",
      "provenance": [],
      "collapsed_sections": []
    },
    "kernelspec": {
      "name": "python3",
      "display_name": "Python 3"
    },
    "language_info": {
      "name": "python"
    }
  },
  "cells": [
    {
      "cell_type": "code",
      "metadata": {
        "id": "2zwAGBWj8Mzw"
      },
      "source": [
        "import numpy as np\n",
        "from sklearn import datasets\n",
        "from sklearn.neural_network import MLPClassifier\n",
        "from sklearn.model_selection import GridSearchCV\n",
        "from sklearn.metrics import accuracy_score\n",
        "from sklearn.preprocessing import StandardScaler\n",
        "\n",
        "\n",
        "\n",
        "\n",
        "import warnings\n"
      ],
      "execution_count": 525,
      "outputs": []
    },
    {
      "cell_type": "code",
      "metadata": {
        "id": "qjiIto2HvdPz"
      },
      "source": [
        "scaler = StandardScaler()"
      ],
      "execution_count": 526,
      "outputs": []
    },
    {
      "cell_type": "code",
      "metadata": {
        "id": "be99awWlXOEn"
      },
      "source": [
        "warnings.filterwarnings('ignore')"
      ],
      "execution_count": 527,
      "outputs": []
    },
    {
      "cell_type": "code",
      "metadata": {
        "id": "g95XRhZT81yu"
      },
      "source": [
        "np.random.seed(5)\n",
        "iris=datasets.load_iris()"
      ],
      "execution_count": 528,
      "outputs": []
    },
    {
      "cell_type": "code",
      "metadata": {
        "id": "vi1E1W5f9D7X"
      },
      "source": [
        "X=iris.data\n",
        "y=iris.target\n",
        "\n",
        "scaler.fit(X)\n",
        "X=scaler.transform(X)"
      ],
      "execution_count": 529,
      "outputs": []
    },
    {
      "cell_type": "code",
      "metadata": {
        "id": "S262S-5s9HMA"
      },
      "source": [
        "sufInd=np.arange(150)\n",
        "\n",
        "np.random.shuffle(sufInd)"
      ],
      "execution_count": 530,
      "outputs": []
    },
    {
      "cell_type": "code",
      "metadata": {
        "id": "lhOQBDzP9P8I"
      },
      "source": [
        "X_train=X[sufInd[:100],:]\n",
        "X_test=X[sufInd[100:],:]"
      ],
      "execution_count": 531,
      "outputs": []
    },
    {
      "cell_type": "code",
      "metadata": {
        "id": "kgYeszwH9a_i"
      },
      "source": [
        "y_train=y[sufInd[:100]]\n",
        "y_test=y[sufInd[100:]]"
      ],
      "execution_count": 532,
      "outputs": []
    },
    {
      "cell_type": "code",
      "metadata": {
        "id": "VSowz5nO9ijC"
      },
      "source": [
        "parameters=[\n",
        "          {\n",
        "              'activation':['identity', 'logistic', 'tanh', 'relu'],\n",
        "              \"solver\":[ 'sgd', 'adam','lbfgs'],\n",
        "              'learning_rate_init':[0.1],\n",
        "              'max_iter':[3000,2000,1000,1500],\n",
        "           }\n",
        "]"
      ],
      "execution_count": 533,
      "outputs": []
    },
    {
      "cell_type": "code",
      "metadata": {
        "id": "tHTBEuTi-R5R"
      },
      "source": [
        "# clf= GridSearchCV(\n",
        "#     MLPClassifier(\n",
        "#         hidden_layer_sizes=(3,)\n",
        "#     ),\n",
        "#     parameters,\n",
        "# )"
      ],
      "execution_count": 534,
      "outputs": []
    },
    {
      "cell_type": "code",
      "metadata": {
        "id": "AaW_zLJr-26c"
      },
      "source": [
        "# clf.fit(X_train,y_train)\n",
        "\n",
        "\n",
        "# print(\"Best parameters set found on development set:\")\n",
        "# print()\n",
        "# print(clf.best_params_)\n",
        "# print()\n",
        "# print(\"Grid scores on development set:\")\n",
        "# print()\n",
        "# print(clf.best_score_)\n",
        "\n",
        "\n",
        "# Best parameters set found on development set:\n",
        "\n",
        "# {'activation': 'identity', 'hidden_layer_sizes': (3,), 'learning_rate_init': 0.5, 'max_iter': 400, 'solver': 'adam'}\n",
        "\n",
        "# Grid scores on development set:\n",
        "\n",
        "# 0.99\n",
        "# {'activation': 'tanh', 'learning_rate_init': 0.1, 'max_iter': 2000, 'solver': 'lbfgs'}\n",
        "\n",
        "# Grid scores on development set:\n",
        "\n",
        "# 0.9800000000000001\n"
      ],
      "execution_count": 535,
      "outputs": []
    },
    {
      "cell_type": "code",
      "metadata": {
        "id": "FrgoPvUHCmNF"
      },
      "source": [
        "# clf.cv_results_.keys()"
      ],
      "execution_count": 536,
      "outputs": []
    },
    {
      "cell_type": "code",
      "metadata": {
        "id": "bajE5BEzC61_"
      },
      "source": [
        "clf= MLPClassifier(\n",
        "    activation='tanh',\n",
        "    hidden_layer_sizes=(3,),\n",
        "    learning_rate_init=0.1,\n",
        "    max_iter=2000,\n",
        "    solver= 'lbfgs'\n",
        ")"
      ],
      "execution_count": 537,
      "outputs": []
    },
    {
      "cell_type": "code",
      "metadata": {
        "colab": {
          "base_uri": "https://localhost:8080/"
        },
        "id": "vK-stlshWMMh",
        "outputId": "5db363b0-66af-4dbd-d540-aceb6364295c"
      },
      "source": [
        "clf.fit(X_train,y_train)  "
      ],
      "execution_count": 538,
      "outputs": [
        {
          "output_type": "execute_result",
          "data": {
            "text/plain": [
              "MLPClassifier(activation='tanh', alpha=0.0001, batch_size='auto', beta_1=0.9,\n",
              "              beta_2=0.999, early_stopping=False, epsilon=1e-08,\n",
              "              hidden_layer_sizes=(3,), learning_rate='constant',\n",
              "              learning_rate_init=0.1, max_fun=15000, max_iter=2000,\n",
              "              momentum=0.9, n_iter_no_change=10, nesterovs_momentum=True,\n",
              "              power_t=0.5, random_state=None, shuffle=True, solver='lbfgs',\n",
              "              tol=0.0001, validation_fraction=0.1, verbose=False,\n",
              "              warm_start=False)"
            ]
          },
          "metadata": {
            "tags": []
          },
          "execution_count": 538
        }
      ]
    },
    {
      "cell_type": "code",
      "metadata": {
        "id": "4bTmb_IUWYAY"
      },
      "source": [
        "y_pred=clf.predict_proba(X_test)\n",
        "y_aux=np.argmax(y_pred,1)"
      ],
      "execution_count": 539,
      "outputs": []
    },
    {
      "cell_type": "code",
      "metadata": {
        "colab": {
          "base_uri": "https://localhost:8080/"
        },
        "id": "dnm_iLDoWc_5",
        "outputId": "568dec3b-4b68-4b93-f6f5-b203c2ac49b7"
      },
      "source": [
        "accuracy_score(y_test,y_aux)"
      ],
      "execution_count": 540,
      "outputs": [
        {
          "output_type": "execute_result",
          "data": {
            "text/plain": [
              "0.98"
            ]
          },
          "metadata": {
            "tags": []
          },
          "execution_count": 540
        }
      ]
    },
    {
      "cell_type": "code",
      "metadata": {
        "colab": {
          "base_uri": "https://localhost:8080/"
        },
        "id": "En1CFgggX5qr",
        "outputId": "08d31650-e3e5-4a0a-81d1-589b976068b0"
      },
      "source": [
        "y_test"
      ],
      "execution_count": 541,
      "outputs": [
        {
          "output_type": "execute_result",
          "data": {
            "text/plain": [
              "array([1, 1, 0, 1, 2, 1, 0, 1, 2, 2, 2, 2, 0, 0, 1, 2, 0, 1, 0, 0, 2, 1,\n",
              "       2, 0, 2, 0, 2, 0, 1, 0, 2, 2, 0, 2, 2, 2, 1, 0, 1, 0, 0, 1, 2, 0,\n",
              "       2, 0, 1, 2, 2, 1])"
            ]
          },
          "metadata": {
            "tags": []
          },
          "execution_count": 541
        }
      ]
    },
    {
      "cell_type": "code",
      "metadata": {
        "id": "JTioE0TEX-PL"
      },
      "source": [
        ""
      ],
      "execution_count": 541,
      "outputs": []
    }
  ]
}